{
 "cells": [
  {
   "cell_type": "markdown",
   "metadata": {},
   "source": [
    "## Encapsulation"
   ]
  },
  {
   "cell_type": "markdown",
   "metadata": {},
   "source": [
    "# Access Modifers\n",
    "\n",
    "1) Public - Example your name -  publically available anyone can know\n",
    "\n",
    "\n",
    "2) Protected - Example Aadhar no - Only knows inside a specific part\n",
    "\n",
    "\n",
    "3) Private - Example your UPI password - Only known by you not even family not even any stranger\n",
    "\n",
    " demonstrate private members\n",
    "\n",
    " \"__\" double underscore represents private attribute. \n",
    " \n",
    " Private attributes start with \"__\"."
   ]
  },
  {
   "cell_type": "code",
   "execution_count": null,
   "metadata": {},
   "outputs": [],
   "source": [
    "# Encapsulation - Used for data hiding - (“wrapping up of data in single unit”.)\n",
    "\n",
    "class Information:\n",
    "  def __init__(self,name,aadhar,upi_password):\n",
    "    self.name=name  # public\n",
    "    self._aadhar=aadhar  # protected\n",
    "    self.__upi_password=upi_password  # private\n",
    "\n",
    "class child(Information):\n",
    "  # Can i print name here - Yes\n",
    "  # Can i print aadhar no here - Yes\n",
    "  # Can i print upi password here - No"
   ]
  },
  {
   "cell_type": "code",
   "execution_count": 1,
   "metadata": {},
   "outputs": [
    {
     "name": "stdout",
     "output_type": "stream",
     "text": [
      "Ford\n",
      "Endeavor\n",
      "80\n",
      "----------------\n",
      "Ford\n",
      "Endeavor\n"
     ]
    },
    {
     "ename": "AttributeError",
     "evalue": "'Car' object has no attribute '__fuel'",
     "output_type": "error",
     "traceback": [
      "\u001b[1;31m---------------------------------------------------------------------------\u001b[0m",
      "\u001b[1;31mAttributeError\u001b[0m                            Traceback (most recent call last)",
      "Cell \u001b[1;32mIn[1], line 21\u001b[0m\n\u001b[0;32m     19\u001b[0m \u001b[38;5;28mprint\u001b[39m(obj1\u001b[38;5;241m.\u001b[39mmaker)\n\u001b[0;32m     20\u001b[0m \u001b[38;5;28mprint\u001b[39m(obj1\u001b[38;5;241m.\u001b[39m_model)\n\u001b[1;32m---> 21\u001b[0m \u001b[38;5;28mprint\u001b[39m(obj1\u001b[38;5;241m.\u001b[39m__fuel)\n",
      "\u001b[1;31mAttributeError\u001b[0m: 'Car' object has no attribute '__fuel'"
     ]
    }
   ],
   "source": [
    "class Car:\n",
    "  def __init__(self,maker,model,fuel):\n",
    "    self.maker=maker # Public\n",
    "    self._model=model  # Protected\n",
    "    self.__fuel=fuel  # Private\n",
    "\n",
    "  def display_info(self):  # First i will try to access all thing inside my class only\n",
    "    print(self.maker) # Public\n",
    "    print(self._model) # Protected\n",
    "    print(self.__fuel) # Private\n",
    "\n",
    "\n",
    "obj1=Car(\"Ford\",\"Endeavor\",80)\n",
    "obj1.display_info()\n",
    "\n",
    "print(\"----------------\")\n",
    "# Now try to access them outside class\n",
    "\n",
    "print(obj1.maker)\n",
    "print(obj1._model)\n",
    "print(obj1.__fuel)\n"
   ]
  }
 ],
 "metadata": {
  "kernelspec": {
   "display_name": "base",
   "language": "python",
   "name": "python3"
  },
  "language_info": {
   "codemirror_mode": {
    "name": "ipython",
    "version": 3
   },
   "file_extension": ".py",
   "mimetype": "text/x-python",
   "name": "python",
   "nbconvert_exporter": "python",
   "pygments_lexer": "ipython3",
   "version": "3.11.5"
  }
 },
 "nbformat": 4,
 "nbformat_minor": 2
}
