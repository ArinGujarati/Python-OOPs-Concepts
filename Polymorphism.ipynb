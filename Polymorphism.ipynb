{
 "cells": [
  {
   "cell_type": "markdown",
   "metadata": {},
   "source": [
    "## Polymorphism"
   ]
  },
  {
   "cell_type": "code",
   "execution_count": 7,
   "metadata": {},
   "outputs": [
    {
     "ename": "TypeError",
     "evalue": "Calculator.add_func() missing 1 required positional argument: 'c'",
     "output_type": "error",
     "traceback": [
      "\u001b[1;31m---------------------------------------------------------------------------\u001b[0m",
      "\u001b[1;31mTypeError\u001b[0m                                 Traceback (most recent call last)",
      "Cell \u001b[1;32mIn[7], line 14\u001b[0m\n\u001b[0;32m     10\u001b[0m     \u001b[38;5;28;01mreturn\u001b[39;00m a\u001b[38;5;241m+\u001b[39mb\u001b[38;5;241m+\u001b[39mc\n\u001b[0;32m     12\u001b[0m obj1\u001b[38;5;241m=\u001b[39mCalculator()\n\u001b[1;32m---> 14\u001b[0m obj1\u001b[38;5;241m.\u001b[39madd_func(\u001b[38;5;241m2\u001b[39m,\u001b[38;5;241m3\u001b[39m)  \u001b[38;5;66;03m# Error because first function is deleted\u001b[39;00m\n\u001b[0;32m     16\u001b[0m obj1\u001b[38;5;241m.\u001b[39madd_func(\u001b[38;5;241m2\u001b[39m,\u001b[38;5;241m3\u001b[39m,\u001b[38;5;241m3\u001b[39m)\n",
      "\u001b[1;31mTypeError\u001b[0m: Calculator.add_func() missing 1 required positional argument: 'c'"
     ]
    }
   ],
   "source": [
    "# Method Overloading ( Not possible in Python)\n",
    "\n",
    "# We will try to create 2 functions with same name , but with different functionality\n",
    "\n",
    "class Calculator:\n",
    "  def add_func(self,a,b):\n",
    "    return a+b\n",
    "\n",
    "  def add_func(self,a,b,c):\n",
    "    return a+b+c\n",
    "\n",
    "obj1=Calculator()\n",
    "\n",
    "#obj1.add_func(2,3)  # Error because first function is deleted in python polymorphism not work\n",
    "\n",
    "obj1.add_func(2,3,3)"
   ]
  },
  {
   "cell_type": "code",
   "execution_count": 9,
   "metadata": {},
   "outputs": [
    {
     "name": "stdout",
     "output_type": "stream",
     "text": [
      "name is not valid\n",
      "First Employee\n",
      "Secound Employee\n"
     ]
    }
   ],
   "source": [
    "# Method Overriding ( Possible in Python)\n",
    "\n",
    "# The property of one class will override the property of other class\n",
    "\n",
    "class Person:     \n",
    "    def print_name(self):\n",
    "        print('name is not valid')\n",
    "     \n",
    "\n",
    "class First_Employee(Person):\n",
    "    def print_name(self):\n",
    "        print(\"First Employee\")\n",
    "\n",
    "class Secound_Employee(Person):\n",
    "    def print_name(self):\n",
    "        print(\"Secound Employee\")\n",
    "\n",
    "obj_default = Person()\n",
    "obj_first = First_Employee()\n",
    "obj_secound = Secound_Employee()\n",
    "\n",
    "obj_default.print_name()\n",
    "obj_first.print_name()\n",
    "obj_secound.print_name()"
   ]
  }
 ],
 "metadata": {
  "kernelspec": {
   "display_name": "base",
   "language": "python",
   "name": "python3"
  },
  "language_info": {
   "codemirror_mode": {
    "name": "ipython",
    "version": 3
   },
   "file_extension": ".py",
   "mimetype": "text/x-python",
   "name": "python",
   "nbconvert_exporter": "python",
   "pygments_lexer": "ipython3",
   "version": "3.11.5"
  }
 },
 "nbformat": 4,
 "nbformat_minor": 2
}
