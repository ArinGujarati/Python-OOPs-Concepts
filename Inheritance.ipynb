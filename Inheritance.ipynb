{
 "cells": [
  {
   "cell_type": "markdown",
   "metadata": {},
   "source": [
    "## Inheritance\n",
    "\n",
    "Types of Inheritance\n",
    "\n",
    "Single Inheritance: Single-level inheritance enables a derived class to inherit characteristics from a single-parent class.\n",
    "\n",
    "Multilevel Inheritance: Multi-level inheritance enables a derived class to inherit properties from an immediate parent class which in turn inherits properties from his parent class. \n",
    "\n",
    "Hierarchical Inheritance: Hierarchical-level inheritance enables more than one derived class to inherit properties from a parent class.\n",
    "\n",
    "Multiple Inheritance: Multiple-level inheritance enables one derived class to inherit properties from more than one base class."
   ]
  },
  {
   "cell_type": "markdown",
   "metadata": {},
   "source": [
    "## Single Inheritance"
   ]
  },
  {
   "cell_type": "code",
   "execution_count": 5,
   "metadata": {},
   "outputs": [],
   "source": [
    "# Simple Single Inheritance Example\n",
    "class Parent:\n",
    "    hair_color = \"brown\"    \n",
    "\n",
    "class Child(Parent):\n",
    "    hair_color = \"purple\""
   ]
  },
  {
   "cell_type": "code",
   "execution_count": 15,
   "metadata": {},
   "outputs": [
    {
     "name": "stdout",
     "output_type": "stream",
     "text": [
      "My name is Mahesh\n",
      "IdNumber: 7262\n",
      "Salary : 300000\n",
      "Post: Junior\n"
     ]
    }
   ],
   "source": [
    "# parent class\n",
    "class Person(object): \n",
    "    # __init__ is known as the constructor\n",
    "    def __init__(self, name, idnumber):\n",
    "        self.name = name\n",
    "        self.idnumber = idnumber\n",
    "     \n",
    "# child class\n",
    "class Employee(Person):\n",
    "    def __init__(self, name, idnumber, salary, post):\n",
    "        self.salary = salary\n",
    "        self.post = post\n",
    "\n",
    "        # invoking the __init__ of the parent class\n",
    "        Person.__init__(self, name, idnumber)\n",
    "         \n",
    "    def details(self):\n",
    "        print(\"My name is {}\".format(self.name))\n",
    "        print(\"IdNumber: {}\".format(self.idnumber))\n",
    "        print(\"Salary : {}\".format(self.salary))\n",
    "        print(\"Post: {}\".format(self.post))\n",
    " \n",
    " \n",
    "# creation of an object variable or an instance\n",
    "a = Employee('Mahesh', 7262, 300000, \"Junior\")\n",
    " \n",
    "# calling a function of the class Person using\n",
    "# its instance\n",
    "a.details()"
   ]
  },
  {
   "cell_type": "markdown",
   "metadata": {},
   "source": [
    "## Multiple Inheritance"
   ]
  },
  {
   "cell_type": "code",
   "execution_count": 18,
   "metadata": {},
   "outputs": [
    {
     "name": "stdout",
     "output_type": "stream",
     "text": [
      "Profession of child is: Doctor\n",
      "Haircolor of child is : Black\n",
      "Nose of child is : Sharp\n",
      "Eyes of child is : Big\n",
      "Height of child : 175\n"
     ]
    }
   ],
   "source": [
    "# Multiple Inheritance ( More than 1 parent , 1 Child)\n",
    "\n",
    "# The child will take the properties from both Father and Mother\n",
    "\n",
    "class Parent1: # Father\n",
    "  def __init__(self):\n",
    "    self.haircolor=\"Black\"\n",
    "    self.nose_struture=\"Sharp\"\n",
    "\n",
    "class Parent2:  # Mother\n",
    "  def __init__(self):\n",
    "    self.eyes_structure = \"Big\"\n",
    "    self.height=175\n",
    "\n",
    "# step - 2 Create child class\n",
    "class Child(Parent1 , Parent2):   # connect child class to parent class\n",
    "  def __init__(self):\n",
    "    self.prof=\"Doctor\"\n",
    "    Parent1.__init__(self)   # In multiple inheritance you have to call constructors of parent class\n",
    "    Parent2.__init__(self)\n",
    "\n",
    "  def display_properties(self):\n",
    "    print(\"Profession of child is:\",self.prof)\n",
    "    print(\"Haircolor of child is :\",self.haircolor)\n",
    "    print(\"Nose of child is :\",self.nose_struture)\n",
    "    print(\"Eyes of child is :\",self.eyes_structure)\n",
    "    print(\"Height of child :\",self.height)\n",
    "\n",
    "# step -3 Create object\n",
    "obj1=Child()\n",
    "obj1.display_properties()\n"
   ]
  },
  {
   "cell_type": "code",
   "execution_count": 21,
   "metadata": {},
   "outputs": [
    {
     "name": "stdout",
     "output_type": "stream",
     "text": [
      "Profession of child is: Doctor\n",
      "Haircolor of child is : Brown\n"
     ]
    }
   ],
   "source": [
    "# Lets say both parents having same property so child will take property from which parent class ?\n",
    "\n",
    "# Overriding\n",
    "\n",
    "class Parent1: # Father\n",
    "  def __init__(self):\n",
    "    self.haircolor=\"Black\"\n",
    "\n",
    "class Parent2:  # Mother\n",
    "  def __init__(self):\n",
    "    self.haircolor=\"Brown\"\n",
    "\n",
    "# step - 2 Create child class\n",
    "class Child(Parent1 , Parent2):   # connect child class to parent class\n",
    "  def __init__(self):\n",
    "    self.prof=\"Doctor\"\n",
    "    Parent1.__init__(self)   # In multiple inheritance you have to call constructors of parent class\n",
    "    Parent2.__init__(self)\n",
    "\n",
    "  def display_properties(self):\n",
    "    print(\"Profession of child is:\",self.prof)\n",
    "    print(\"Haircolor of child is :\",self.haircolor)\n",
    "\n",
    "# step -3 Create object\n",
    "obj1=Child()\n",
    "obj1.display_properties()"
   ]
  },
  {
   "cell_type": "markdown",
   "metadata": {},
   "source": [
    "## Multilevel Inheritance"
   ]
  },
  {
   "cell_type": "code",
   "execution_count": 28,
   "metadata": {},
   "outputs": [
    {
     "name": "stdout",
     "output_type": "stream",
     "text": [
      "Haircolor of child is : Black\n",
      "Eyes of child is : Big\n",
      "Profession of child is : Doctor\n"
     ]
    }
   ],
   "source": [
    "# Multi-Level Inheritance ( More than 1 Level of Inheritance)\n",
    "\n",
    "# Grandfather  - Father - You\n",
    "\n",
    "class Parent1: # Grandfather\n",
    "  def __init__(self):\n",
    "     self.eyes_structure = \"Big\"\n",
    "\n",
    "class Parent2(Parent1): # Father\n",
    "  def __init__(self):\n",
    "    self.haircolor=\"Black\"\n",
    "    Parent1.__init__(self)  # call constructore of grandfather in father\n",
    "\n",
    "class Child(Parent2):   # connect child class to parent class\n",
    "  def __init__(self):\n",
    "    self.prof=\"Doctor\"\n",
    "    Parent2.__init__(self)   # call constructor of father in child\n",
    "\n",
    "  def display_properties(self):\n",
    "    print(\"Haircolor of child is :\",self.haircolor)\n",
    "    print(\"Eyes of child is :\",self.eyes_structure)\n",
    "    print(\"Profession of child is :\",self.prof)\n",
    "\n",
    "# step -3 Create object\n",
    "obj1=Child()\n",
    "obj1.display_properties()\n"
   ]
  },
  {
   "cell_type": "markdown",
   "metadata": {},
   "source": [
    "## Hierarchial Inheritance"
   ]
  },
  {
   "cell_type": "code",
   "execution_count": 70,
   "metadata": {},
   "outputs": [
    {
     "name": "stdout",
     "output_type": "stream",
     "text": [
      "Alex\n",
      "42\n"
     ]
    }
   ],
   "source": [
    "class NameClass:     \n",
    "    def __init__(self):\n",
    "        self.name = 'Alex'\n",
    "\n",
    "class PrintName(NameClass):     \n",
    "    def __init__(self):        \n",
    "        NameClass.__init__(self)\n",
    "    def printdata(self):\n",
    "        return self.name\n",
    "     \n",
    "class AgeClass:     \n",
    "    def __init__(self):\n",
    "        self.age = 42             \n",
    "    \n",
    "# Child class\n",
    "class Employee(PrintName, AgeClass):  # Corrected inheritance\n",
    "    def __init__(self):        \n",
    "        PrintName.__init__(self)\n",
    "        AgeClass.__init__(self) \n",
    "    def detail(self):\n",
    "        print(self.printdata())  # Call the printdata method defined in PrintName class\n",
    "        print(self.age)                \n",
    "\n",
    "# Creation of an object variable or an instance\n",
    "a = Employee()\n",
    "a.detail()  # Call the detail method to print the name\n"
   ]
  }
 ],
 "metadata": {
  "kernelspec": {
   "display_name": "base",
   "language": "python",
   "name": "python3"
  },
  "language_info": {
   "codemirror_mode": {
    "name": "ipython",
    "version": 3
   },
   "file_extension": ".py",
   "mimetype": "text/x-python",
   "name": "python",
   "nbconvert_exporter": "python",
   "pygments_lexer": "ipython3",
   "version": "3.11.5"
  }
 },
 "nbformat": 4,
 "nbformat_minor": 2
}
